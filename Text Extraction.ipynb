{
 "cells": [
  {
   "cell_type": "code",
   "execution_count": 1,
   "metadata": {},
   "outputs": [],
   "source": [
    "from PIL import Image\n",
    "from pytesseract import pytesseract"
   ]
  },
  {
   "cell_type": "code",
   "execution_count": 10,
   "metadata": {},
   "outputs": [],
   "source": [
    "# Defining paths to tesseract.exe\n",
    "# and the image we would be using\n",
    "path_to_tesseract = r\"C:\\Users\\91963\\Tessaract-OCR\\tesseract.exe\"\n",
    "image_path = r\"C:\\Users\\91963\\Desktop\\Image\\image2.jpg\""
   ]
  },
  {
   "cell_type": "code",
   "execution_count": 11,
   "metadata": {},
   "outputs": [
    {
     "name": "stdout",
     "output_type": "stream",
     "text": [
      "GeeksforGeeks\n"
     ]
    }
   ],
   "source": [
    "# Opening the image & storing it in an image object\n",
    "img = Image.open(image_path)\n",
    "  \n",
    "# Providing the tesseract executable\n",
    "# location to pytesseract library\n",
    "pytesseract.tesseract_cmd = path_to_tesseract\n",
    "  \n",
    "# Passing the image object to image_to_string() function\n",
    "# This function will extract the text from the image\n",
    "text = pytesseract.image_to_string(img)\n",
    "  \n",
    "# Displaying the extracted text\n",
    "print(text[:-1])"
   ]
  }
 ],
 "metadata": {
  "interpreter": {
   "hash": "27f0539cc56ac5d801a6e08b113f873452717e5eae155f0047c4fae7095f8989"
  },
  "kernelspec": {
   "display_name": "Python 3.9.7 64-bit",
   "language": "python",
   "name": "python3"
  },
  "language_info": {
   "codemirror_mode": {
    "name": "ipython",
    "version": 3
   },
   "file_extension": ".py",
   "mimetype": "text/x-python",
   "name": "python",
   "nbconvert_exporter": "python",
   "pygments_lexer": "ipython3",
   "version": "3.9.7"
  },
  "orig_nbformat": 4
 },
 "nbformat": 4,
 "nbformat_minor": 2
}
